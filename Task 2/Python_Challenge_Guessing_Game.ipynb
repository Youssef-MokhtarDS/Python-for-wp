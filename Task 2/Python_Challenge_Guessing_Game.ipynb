{
 "cells": [
  {
   "cell_type": "markdown",
   "metadata": {
    "id": "NQuOyznPahpH"
   },
   "source": [
    "# Guessing Game Challenge\n",
    "\n",
    "Let's use `while` loops to create a guessing game.\n",
    "\n",
    "The Challenge:\n",
    "\n",
    "Write a program that picks a random integer from 1 to 100, and has players guess the number. The rules are:\n",
    "\n",
    "1. If a player's guess is less than 1 or greater than 100, say \"OUT OF BOUNDS\"\n",
    "\n",
    "2. On all turns, if a guess is\n",
    " * closer to the number than the previous guess return \"Closer!\"\n",
    " * farther from the number than the previous guess, return \"Farther!\"\n",
    " * if a player want to end, he\\she  presses \"E\" key, return \"End Good bye!\"\n",
    "3. When the player's guess equals the number, tell them they've guessed correctly *and* how many guesses it took!\n",
    "4. print the rules of game in the start.\n",
    "\n"
   ]
  },
  {
   "cell_type": "code",
   "execution_count": 1,
   "metadata": {},
   "outputs": [
    {
     "name": "stdout",
     "output_type": "stream",
     "text": [
      "Welcome to the Guessing Game Challenge!\n",
      "Rules:\n",
      "1. Guess a number between 1 and 100.\n",
      "2. If your guess is out of bounds, you'll be notified.\n",
      "3. You'll get hints if you're getting closer or farther.\n",
      "4. Press 'E' to exit the game anytime.\n",
      "5. Keep guessing until you find the correct number. Let's go!\n",
      "\n",
      "Closer!\n",
      "OUT OF BOUNDS\n",
      "OUT OF BOUNDS\n",
      "Closer!\n",
      "Closer!\n",
      "Farther!\n",
      "Farther!\n",
      "Farther!\n",
      "Farther!\n",
      "Farther!\n",
      "Closer!\n",
      "Congratulations! You've guessed the number 51 correctly in 13 guesses!\n"
     ]
    }
   ],
   "source": [
    "import random\n",
    "\n",
    "def guessing_game():\n",
    "    print(\"Welcome to the Guessing Game Challenge!\")\n",
    "    print(\"Rules:\")\n",
    "    print(\"1. Guess a number between 1 and 100.\")\n",
    "    print(\"2. If your guess is out of bounds, you'll be notified.\")\n",
    "    print(\"3. You'll get hints if you're getting closer or farther.\")\n",
    "    print(\"4. Press 'E' to exit the game anytime.\")\n",
    "    print(\"5. Keep guessing until you find the correct number. Let's go!\\n\")\n",
    "\n",
    "    secret_number = random.randint(1, 100)  \n",
    "    previous_guess = None\n",
    "    guess_count = 0\n",
    "\n",
    "    while True:\n",
    "        user_input = input(\"Enter your guess (or 'E' to exit): \")\n",
    "        \n",
    "        if user_input.upper() == \"E\":\n",
    "            print(\"End Good bye!\")\n",
    "            break\n",
    "\n",
    "        if not user_input.isdigit():  \n",
    "            print(\"Invalid input. Please enter a number between 1 and 100.\")\n",
    "            continue\n",
    "\n",
    "        guess = int(user_input)\n",
    "        guess_count += 1\n",
    "\n",
    "        if guess < 1 or guess > 100:\n",
    "            print(\"OUT OF BOUNDS\")\n",
    "            continue\n",
    "        \n",
    "        \n",
    "        if guess == secret_number:\n",
    "            print(f\"Congratulations! You've guessed the number {secret_number} correctly in {guess_count} guesses!\")\n",
    "            break\n",
    "\n",
    "        # Hint system\n",
    "        if previous_guess is not None:\n",
    "            if abs(secret_number - guess) < abs(secret_number - previous_guess):\n",
    "                print(\"Closer!\")\n",
    "            else:\n",
    "                print(\"Farther!\")\n",
    "\n",
    "        previous_guess = guess  \n",
    "\n",
    "guessing_game()"
   ]
  },
  {
   "cell_type": "markdown",
   "metadata": {
    "id": "HlHfgyZ9ahpc"
   },
   "source": [
    "### Good Job!"
   ]
  }
 ],
 "metadata": {
  "colab": {
   "provenance": []
  },
  "kernelspec": {
   "display_name": "Python 3",
   "language": "python",
   "name": "python3"
  },
  "language_info": {
   "codemirror_mode": {
    "name": "ipython",
    "version": 3
   },
   "file_extension": ".py",
   "mimetype": "text/x-python",
   "name": "python",
   "nbconvert_exporter": "python",
   "pygments_lexer": "ipython3",
   "version": "3.13.0"
  }
 },
 "nbformat": 4,
 "nbformat_minor": 4
}
