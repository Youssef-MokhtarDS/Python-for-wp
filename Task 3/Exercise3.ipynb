{
 "cells": [
  {
   "cell_type": "markdown",
   "id": "ba4d8c70-b602-45f4-983d-9761ec42e25e",
   "metadata": {},
   "source": [
    "## Exercise No.3"
   ]
  },
  {
   "cell_type": "markdown",
   "id": "2064f43f-0df3-44a8-a16e-fac5b5515ba9",
   "metadata": {},
   "source": [
    "**1-write program for circle class. This class has the following:**\n",
    "* Attribute: its name is pi with value 3.14\n",
    "* During the object create the raduis attribute is asigned by the raduis of circle\n",
    "* Has two methods to calculate the Area and Circumference of circle"
   ]
  },
  {
   "cell_type": "code",
   "execution_count": 1,
   "id": "b5a05814",
   "metadata": {},
   "outputs": [
    {
     "name": "stdout",
     "output_type": "stream",
     "text": [
      "Area of Circle: 78.5\n",
      "Circumference of Circle: 31.400000000000002\n"
     ]
    }
   ],
   "source": [
    "class Circle:\n",
    "    # Class attribute\n",
    "    pi = 3.14\n",
    "    \n",
    "    # Constructor to initialize radius\n",
    "    def __init__(self, radius):\n",
    "        self.radius = radius\n",
    "    \n",
    "    # Method to calculate area\n",
    "    def calculate_area(self):\n",
    "        return Circle.pi * self.radius ** 2\n",
    "    \n",
    "    # Method to calculate circumference\n",
    "    def calculate_circumference(self):\n",
    "        return 2 * Circle.pi * self.radius\n",
    "\n",
    "# Example usage:\n",
    "circle1 = Circle(5)  # Creating a Circle object with radius 5\n",
    "print(\"Area of Circle:\", circle1.calculate_area())  # Outputs: 78.5\n",
    "print(\"Circumference of Circle:\", circle1.calculate_circumference())  # Outputs: 31.4"
   ]
  },
  {
   "cell_type": "markdown",
   "id": "fd47b546-5a34-4693-a188-e4f5fb43ef55",
   "metadata": {},
   "source": [
    "**2. Write a program for a Rectangle class.**\n",
    "\n",
    "Attributes: length and width (set through constructor)\n",
    "\n",
    "Methods:\n",
    "\n",
    "area() – returns the area\n",
    "\n",
    "perimeter() – returns the perimeter"
   ]
  },
  {
   "cell_type": "code",
   "execution_count": 2,
   "id": "0c2b6933",
   "metadata": {},
   "outputs": [
    {
     "name": "stdout",
     "output_type": "stream",
     "text": [
      "Area of Rectangle: 50\n",
      "Perimeter of Rectangle: 30\n"
     ]
    }
   ],
   "source": [
    "class Rectangle:\n",
    "    def __init__(self, length, width):\n",
    "        \"\"\"Initialize the rectangle with length and width\"\"\"\n",
    "        self.length = length\n",
    "        self.width = width\n",
    "    \n",
    "    def area(self):\n",
    "        \"\"\"Calculate and return the area of the rectangle\"\"\"\n",
    "        return self.length * self.width\n",
    "    \n",
    "    def perimeter(self):\n",
    "        \"\"\"Calculate and return the perimeter of the rectangle\"\"\"\n",
    "        return 2 * (self.length + self.width)\n",
    "\n",
    "# Example usage:\n",
    "rect1 = Rectangle(10, 5)  # Creating a Rectangle object with length 10 and width 5\n",
    "print(\"Area of Rectangle:\", rect1.area())  # Outputs: 50\n",
    "print(\"Perimeter of Rectangle:\", rect1.perimeter())  # Outputs: 30"
   ]
  },
  {
   "cell_type": "markdown",
   "id": "f7831422-c199-4cfd-88a6-b989997b4911",
   "metadata": {},
   "source": [
    "**3-Write a program for an Employee class using class method.**\n",
    "Attributes: name and salary\n",
    "\n",
    "Class attribute: company_name\n",
    "\n",
    "Use a class method to change the company_name for all employees"
   ]
  },
  {
   "cell_type": "code",
   "execution_count": 3,
   "id": "e5b7053d",
   "metadata": {},
   "outputs": [
    {
     "name": "stdout",
     "output_type": "stream",
     "text": [
      "Employee Name: Alice, Salary: 50000, Company: TechCorp\n",
      "Employee Name: Bob, Salary: 60000, Company: TechCorp\n",
      "Employee Name: Alice, Salary: 50000, Company: GlobalTech\n",
      "Employee Name: Bob, Salary: 60000, Company: GlobalTech\n"
     ]
    }
   ],
   "source": [
    "class Employee:\n",
    "    company_name = \"TechCorp\"  # Class attribute shared across all instances\n",
    "    \n",
    "    def __init__(self, name, salary):\n",
    "        \"\"\"Initialize an Employee with name and salary\"\"\"\n",
    "        self.name = name\n",
    "        self.salary = salary\n",
    "    \n",
    "    @classmethod\n",
    "    def change_company_name(cls, new_name):\n",
    "        \"\"\"Change the company name for all employees\"\"\"\n",
    "        cls.company_name = new_name\n",
    "\n",
    "    def display_info(self):\n",
    "        \"\"\"Display the employee's details\"\"\"\n",
    "        return f\"Employee Name: {self.name}, Salary: {self.salary}, Company: {self.company_name}\"\n",
    "\n",
    "# Example usage:\n",
    "emp1 = Employee(\"Alice\", 50000)\n",
    "emp2 = Employee(\"Bob\", 60000)\n",
    "\n",
    "print(emp1.display_info())  # Output: Employee Name: Alice, Salary: 50000, Company: TechCorp\n",
    "print(emp2.display_info())  # Output: Employee Name: Bob, Salary: 60000, Company: TechCorp\n",
    "\n",
    "# Changing the company name using class method\n",
    "Employee.change_company_name(\"GlobalTech\")\n",
    "\n",
    "print(emp1.display_info())  # Output: Employee Name: Alice, Salary: 50000, Company: GlobalTech\n",
    "print(emp2.display_info())  # Output: Employee Name: Bob, Salary: 60000, Company: GlobalTech"
   ]
  },
  {
   "cell_type": "markdown",
   "id": "354fa199-a3c8-4ea6-ae2e-79ed45c7f0bc",
   "metadata": {},
   "source": [
    "**4- Create a Shape class and two child classes Square and Circle.**\n",
    "\n",
    "Use polymorphism to define a method area()\n",
    "\n",
    "Use a loop to calculate area for both shapes using a common function"
   ]
  },
  {
   "cell_type": "code",
   "execution_count": null,
   "id": "82433dc7",
   "metadata": {},
   "outputs": [
    {
     "name": "stdout",
     "output_type": "stream",
     "text": [
      "Area of Square: 16.00\n",
      "Area of Circle: 78.54\n",
      "Area of Square: 36.00\n",
      "Area of Circle: 153.94\n"
     ]
    }
   ],
   "source": [
    "import math\n",
    "class Shape:\n",
    "    def area(self):\n",
    "        \"\"\"Method to be overridden by child classes\"\"\"\n",
    "        pass\n",
    "class Square(Shape):\n",
    "    def __init__(self, side_length):\n",
    "        self.side_length = side_length\n",
    "    \n",
    "    def area(self):\n",
    "        \"\"\"Calculates and returns area of the square\"\"\"\n",
    "        return self.side_length ** 2\n",
    "\n",
    "class Circle(Shape):\n",
    "    def __init__(self, radius):\n",
    "        self.radius = radius\n",
    "    \n",
    "    def area(self):\n",
    "        \"\"\"Calculates and returns area of the circle\"\"\"\n",
    "        return math.pi * self.radius ** 2\n",
    "\n",
    "\n",
    "shapes = [Square(4), Circle(5), Square(6), Circle(7)]\n",
    "\n",
    "def calculate_areas(shape_list):\n",
    "    for shape in shape_list:\n",
    "        print(f\"Area of {type(shape).__name__}: {shape.area():.2f}\")\n",
    "calculate_areas(shapes)"
   ]
  },
  {
   "cell_type": "markdown",
   "id": "ff656a62-e1e0-4855-8aab-65c6af6f60c5",
   "metadata": {},
   "source": [
    "**5-Create a 1D NumPy array of numbers from 0 to 9**"
   ]
  },
  {
   "cell_type": "code",
   "execution_count": null,
   "id": "8e10e4be",
   "metadata": {},
   "outputs": [
    {
     "name": "stdout",
     "output_type": "stream",
     "text": [
      "1D NumPy array: [0 1 2 3 4 5 6 7 8 9]\n"
     ]
    }
   ],
   "source": [
    "import numpy as np\n",
    "array = np.arange(10)\n",
    "print(\"1D NumPy array:\", array)"
   ]
  },
  {
   "cell_type": "markdown",
   "id": "e50cfc0f-df3a-41a0-ba8c-447917bea0f1",
   "metadata": {},
   "source": [
    "**6-Create a 4x4 NumPy array of all True values**"
   ]
  },
  {
   "cell_type": "code",
   "execution_count": null,
   "id": "c3bda69b",
   "metadata": {},
   "outputs": [
    {
     "name": "stdout",
     "output_type": "stream",
     "text": [
      "4x4 NumPy array of True values:\n",
      " [[ True  True  True  True]\n",
      " [ True  True  True  True]\n",
      " [ True  True  True  True]\n",
      " [ True  True  True  True]]\n"
     ]
    }
   ],
   "source": [
    "array = np.full((4, 4), True, dtype=bool)\n",
    "print(\"4x4 NumPy array of True values:\\n\", array)"
   ]
  },
  {
   "cell_type": "markdown",
   "id": "561875e4-753d-4cc9-9059-4ccacc377500",
   "metadata": {},
   "source": [
    "**7-Create an array of 10 random floats between 0 and 1**"
   ]
  },
  {
   "cell_type": "code",
   "execution_count": 7,
   "id": "f40f8828",
   "metadata": {},
   "outputs": [
    {
     "name": "stdout",
     "output_type": "stream",
     "text": [
      "Array of 10 random floats between 0 and 1:\n",
      " [0.68331247 0.21722298 0.45855295 0.15073278 0.08822639 0.03474549\n",
      " 0.90637588 0.91177284 0.67244016 0.21125809]\n"
     ]
    }
   ],
   "source": [
    "random_floats = np.random.rand(10)\n",
    "print(\"Array of 10 random floats between 0 and 1:\\n\", random_floats)"
   ]
  },
  {
   "cell_type": "markdown",
   "id": "65aeb073-35e1-42b6-afaa-41cb2365fb61",
   "metadata": {},
   "source": [
    "**8-Create a NumPy array of even numbers from 2 to 20**"
   ]
  },
  {
   "cell_type": "code",
   "execution_count": 8,
   "id": "c7fd8213",
   "metadata": {},
   "outputs": [
    {
     "name": "stdout",
     "output_type": "stream",
     "text": [
      "NumPy array of even numbers from 2 to 20:\n",
      " [ 2  4  6  8 10 12 14 16 18 20]\n"
     ]
    }
   ],
   "source": [
    "even_numbers = np.arange(2, 21, 2)\n",
    "print(\"NumPy array of even numbers from 2 to 20:\\n\", even_numbers)"
   ]
  },
  {
   "cell_type": "markdown",
   "id": "3d9bd0c4-c80e-41f4-a553-8a2ba05ac7fc",
   "metadata": {},
   "source": [
    "**9-Get the maximum, minimum, and mean of an random array**"
   ]
  },
  {
   "cell_type": "code",
   "execution_count": 9,
   "id": "cd126b04",
   "metadata": {},
   "outputs": [
    {
     "name": "stdout",
     "output_type": "stream",
     "text": [
      "Random Array: [66  7  7 11 24 85 37 72 75 93]\n",
      "Maximum Value: 93\n",
      "Minimum Value: 7\n",
      "Mean Value: 47.7\n"
     ]
    }
   ],
   "source": [
    "random_array = np.random.randint(1, 100, size=10)\n",
    "max_value = random_array.max()\n",
    "min_value = random_array.min()\n",
    "mean_value = random_array.mean()\n",
    "\n",
    "print(\"Random Array:\", random_array)\n",
    "print(\"Maximum Value:\", max_value)\n",
    "print(\"Minimum Value:\", min_value)\n",
    "print(\"Mean Value:\", mean_value)\n",
    "\n"
   ]
  },
  {
   "cell_type": "markdown",
   "id": "965439c7-cd2d-491f-820e-e154857ec595",
   "metadata": {},
   "source": [
    "**10-Flatten a 2D array to 1D**"
   ]
  },
  {
   "cell_type": "code",
   "execution_count": 10,
   "id": "9152d3b0-a1b3-4086-9028-bd65fec715e9",
   "metadata": {},
   "outputs": [
    {
     "name": "stdout",
     "output_type": "stream",
     "text": [
      "Original 2D Array:\n",
      " [[1 2]\n",
      " [3 4]]\n",
      "Flattened 1D Array:\n",
      " [1 2 3 4]\n"
     ]
    }
   ],
   "source": [
    "arr2d = np.array([[1, 2], [3, 4]])\n",
    "\n",
    "# Flattening the array to 1D\n",
    "arr_1d = arr2d.flatten()\n",
    "\n",
    "# Displaying the result\n",
    "print(\"Original 2D Array:\\n\", arr2d)\n",
    "print(\"Flattened 1D Array:\\n\", arr_1d)\n",
    "\n"
   ]
  }
 ],
 "metadata": {
  "kernelspec": {
   "display_name": "Python 3",
   "language": "python",
   "name": "python3"
  },
  "language_info": {
   "codemirror_mode": {
    "name": "ipython",
    "version": 3
   },
   "file_extension": ".py",
   "mimetype": "text/x-python",
   "name": "python",
   "nbconvert_exporter": "python",
   "pygments_lexer": "ipython3",
   "version": "3.13.0"
  }
 },
 "nbformat": 4,
 "nbformat_minor": 5
}
