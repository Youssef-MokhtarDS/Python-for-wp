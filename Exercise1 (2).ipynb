{
  "cells": [
    {
      "cell_type": "markdown",
      "id": "6057504f-f52b-49eb-a22e-7520a39cc20e",
      "metadata": {
        "id": "6057504f-f52b-49eb-a22e-7520a39cc20e"
      },
      "source": [
        "## Exercise No.1"
      ]
    },
    {
      "cell_type": "markdown",
      "id": "a81f4282-2521-4d47-85ea-d9e6cd26dcac",
      "metadata": {
        "id": "a81f4282-2521-4d47-85ea-d9e6cd26dcac"
      },
      "source": [
        "**1- Draw Rhombus \"معين\"**"
      ]
    },
    {
      "cell_type": "code",
      "execution_count": 10,
      "id": "e0c41e02-a074-4121-81b4-a7954d968163",
      "metadata": {
        "colab": {
          "base_uri": "https://localhost:8080/"
        },
        "id": "e0c41e02-a074-4121-81b4-a7954d968163",
        "outputId": "4d4828c3-2ee4-461a-a62f-93fc2b8ecd5c"
      },
      "outputs": [
        {
          "output_type": "stream",
          "name": "stdout",
          "text": [
            "    *\n",
            "   ***\n",
            "  *****\n",
            " *******\n",
            "*********\n",
            " *******\n",
            "  *****\n",
            "   ***\n",
            "    *\n"
          ]
        }
      ],
      "source": [
        "def draw_rhombus(n):\n",
        "    # Upper part of the rhombus\n",
        "    for i in range(n):\n",
        "        print(\" \" * (n - i - 1) + \"*\" * (2 * i + 1))\n",
        "\n",
        "    # Lower part of the rhombus\n",
        "    for i in range(n - 2, -1, -1):\n",
        "        print(\" \" * (n - i - 1) + \"*\" * (2 * i + 1))\n",
        "\n",
        "\n",
        "size = 5\n",
        "draw_rhombus(size)\n"
      ]
    },
    {
      "cell_type": "markdown",
      "id": "f684bc97-d3be-4b0b-a682-16c66911ddb3",
      "metadata": {
        "id": "f684bc97-d3be-4b0b-a682-16c66911ddb3"
      },
      "source": [
        "**2- write the next equation**\n",
        "\n",
        "![image.png](attachment:4f2e9323-122d-4ab9-a9b6-f1b47e02d98e.png)\n",
        "\n",
        "\n",
        "if x = 10 ,the answer Should be 10.1999"
      ]
    },
    {
      "cell_type": "code",
      "execution_count": 25,
      "id": "430ac928-c1f7-4382-96f9-13f33f20be29",
      "metadata": {
        "colab": {
          "base_uri": "https://localhost:8080/"
        },
        "id": "430ac928-c1f7-4382-96f9-13f33f20be29",
        "outputId": "a37535ec-355d-42a7-d1c1-102eb18080d8"
      },
      "outputs": [
        {
          "output_type": "execute_result",
          "data": {
            "text/plain": [
              "10.199992960001408"
            ]
          },
          "metadata": {},
          "execution_count": 25
        }
      ],
      "source": [
        "x=10\n",
        "r=(x**3 + 2*x - 0.5*x**-3)/(x**2 + 2 * 10**-5)\n",
        "\n",
        "r\n"
      ]
    },
    {
      "cell_type": "markdown",
      "id": "8f17e2c0-ba2c-4cd8-8b70-ae3caf4e8e6f",
      "metadata": {
        "id": "8f17e2c0-ba2c-4cd8-8b70-ae3caf4e8e6f"
      },
      "source": [
        "**3-correct**"
      ]
    },
    {
      "cell_type": "code",
      "execution_count": 30,
      "id": "a064fb79-6936-4494-9036-7310153f886d",
      "metadata": {
        "colab": {
          "base_uri": "https://localhost:8080/"
        },
        "id": "a064fb79-6936-4494-9036-7310153f886d",
        "outputId": "2313924d-2d63-46bb-f3d1-c80c190c750b"
      },
      "outputs": [
        {
          "output_type": "execute_result",
          "data": {
            "text/plain": [
              "50"
            ]
          },
          "metadata": {},
          "execution_count": 30
        }
      ],
      "source": [
        "X= 50\n",
        "y= 95\n",
        "c=X # fix\n",
        "z=y-c # fix\n",
        "z += 5 # fix\n",
        "z #Should Return 50"
      ]
    },
    {
      "cell_type": "markdown",
      "id": "7a8edb87-aa81-4eed-8f87-a764c9f79e1f",
      "metadata": {
        "id": "7a8edb87-aa81-4eed-8f87-a764c9f79e1f"
      },
      "source": [
        "**4- Make a \"Generic\" Code that by taking any Sentence as an input it will return two Sentences which are splitted by the Middle Letter.**\n",
        "\n",
        "Examples :- input = \"harpy\" ,output= [\"ha\" ,\"py\"]\n",
        "\n",
        "input=\"Mastery\" ,output=[\"Mas\",\"ery\"]\n",
        "\n",
        "input=\"He was Lucky\" ,output=['He wa', ' Lucky']"
      ]
    },
    {
      "cell_type": "code",
      "source": [
        "def split_sentence(sentence):\n",
        "    middle_index = len(sentence) // 2\n",
        "    return [sentence[:middle_index], sentence[middle_index:]]\n",
        "\n",
        "sentence = input(\"Enter a sentence: \")\n",
        "result = split_sentence(sentence)\n",
        "print(result)"
      ],
      "metadata": {
        "id": "cAlbNDBU34kj",
        "outputId": "414937d1-a6a0-4728-a49f-3e7df531b1a0",
        "colab": {
          "base_uri": "https://localhost:8080/"
        }
      },
      "id": "cAlbNDBU34kj",
      "execution_count": 41,
      "outputs": [
        {
          "output_type": "stream",
          "name": "stdout",
          "text": [
            "Enter a sentence: you are my moon\n",
            "['you are', ' my moon']\n"
          ]
        }
      ]
    },
    {
      "cell_type": "markdown",
      "id": "1e79b707-4858-4f7e-ae10-d696793e913c",
      "metadata": {
        "id": "1e79b707-4858-4f7e-ae10-d696793e913c"
      },
      "source": [
        "**5-Write a Python program which accepts the user's first and last name and print them in reverse order with a space between them.**"
      ]
    },
    {
      "cell_type": "code",
      "execution_count": 31,
      "id": "b6b9cf6f-6239-478f-9517-efc3173ae53e",
      "metadata": {
        "colab": {
          "base_uri": "https://localhost:8080/"
        },
        "id": "b6b9cf6f-6239-478f-9517-efc3173ae53e",
        "outputId": "52047985-4303-4f4a-c804-594b5d35a8e5"
      },
      "outputs": [
        {
          "output_type": "stream",
          "name": "stdout",
          "text": [
            "Input your First Name : you\n",
            "Input your Last Name : mok\n",
            "mok you\n"
          ]
        }
      ],
      "source": [
        "def reverse_name():\n",
        "    first_name = input(\"Input your First Name : \")\n",
        "    last_name = input(\"Input your Last Name : \")\n",
        "    print(last_name + \" \" + first_name)\n",
        "\n",
        "reverse_name()\n"
      ]
    },
    {
      "cell_type": "markdown",
      "id": "c26fd036-3480-4275-83bb-787191b822c9",
      "metadata": {
        "id": "c26fd036-3480-4275-83bb-787191b822c9"
      },
      "source": [
        "**6-Write a Python program which accepts a sequence of comma-separated numbers from user and generate a list and a tuple with those numbers.**"
      ]
    },
    {
      "cell_type": "code",
      "execution_count": 32,
      "id": "cc443e87-6275-41d9-aadd-48556d671404",
      "metadata": {
        "colab": {
          "base_uri": "https://localhost:8080/"
        },
        "id": "cc443e87-6275-41d9-aadd-48556d671404",
        "outputId": "2401610b-41d0-4459-b6f7-6c395acaa1c4"
      },
      "outputs": [
        {
          "output_type": "stream",
          "name": "stdout",
          "text": [
            "Input comma-separated numbers: 25\n",
            "List: ['25']\n",
            "Tuple: ('25',)\n"
          ]
        }
      ],
      "source": [
        "def numbers_to_list_and_tuple():\n",
        "    numbers_str = input(\"Input comma-separated numbers: \")\n",
        "    numbers_list = numbers_str.split(',')\n",
        "    numbers_tuple = tuple(numbers_list)\n",
        "    print(\"List:\", numbers_list)\n",
        "    print(\"Tuple:\", numbers_tuple)\n",
        "\n",
        "numbers_to_list_and_tuple()\n"
      ]
    },
    {
      "cell_type": "markdown",
      "id": "22613e62-df1a-465b-b06f-79d9f773a2c2",
      "metadata": {
        "id": "22613e62-df1a-465b-b06f-79d9f773a2c2"
      },
      "source": [
        "**7-Write a Python program which accepts width and height of Rectangle and Calculate its area**"
      ]
    },
    {
      "cell_type": "code",
      "execution_count": 34,
      "id": "a2777543-1909-412c-9458-7b6747b9775a",
      "metadata": {
        "colab": {
          "base_uri": "https://localhost:8080/"
        },
        "id": "a2777543-1909-412c-9458-7b6747b9775a",
        "outputId": "6fc17028-0064-404d-864e-127628d21142"
      },
      "outputs": [
        {
          "output_type": "stream",
          "name": "stdout",
          "text": [
            "Input width of Rectangle: 5\n",
            "Input height of Rectangle: 12\n",
            "Area of Rectangle = 60.0\n"
          ]
        }
      ],
      "source": [
        "def calculate_rectangle_area():\n",
        "    width = float(input(\"Input width of Rectangle: \"))\n",
        "    height = float(input(\"Input height of Rectangle: \"))\n",
        "    area = width * height\n",
        "    print(\"Area of Rectangle =\", area)\n",
        "\n",
        "calculate_rectangle_area()\n"
      ]
    }
  ],
  "metadata": {
    "kernelspec": {
      "display_name": "Python 3 (ipykernel)",
      "language": "python",
      "name": "python3"
    },
    "language_info": {
      "codemirror_mode": {
        "name": "ipython",
        "version": 3
      },
      "file_extension": ".py",
      "mimetype": "text/x-python",
      "name": "python",
      "nbconvert_exporter": "python",
      "pygments_lexer": "ipython3",
      "version": "3.12.4"
    },
    "colab": {
      "provenance": []
    }
  },
  "nbformat": 4,
  "nbformat_minor": 5
}